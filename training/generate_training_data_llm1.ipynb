{
 "cells": [
  {
   "cell_type": "code",
   "id": "initial_id",
   "metadata": {
    "collapsed": true,
    "ExecuteTime": {
     "end_time": "2025-03-21T10:52:23.140109Z",
     "start_time": "2025-03-21T10:52:21.682372Z"
    }
   },
   "source": [
    "import os\n",
    "from dotenv import load_dotenv\n",
    "from neo4j import GraphDatabase\n",
    "from datasets import load_from_disk\n",
    "from retrieval.ner import NER\n",
    "from retrieval.path_retriever import PathRetriever\n",
    "import json\n",
    "\n",
    "load_dotenv('.env', override=True)\n",
    "NEO4J_URI = os.getenv('NEO4J_URI')\n",
    "NEO4J_USERNAME = os.getenv('NEO4J_USERNAME')\n",
    "NEO4J_PASSWORD = os.getenv('NEO4J_PASSWORD')\n",
    "OPENAI_API_KEY = os.getenv('OPENAI_API_KEY')"
   ],
   "outputs": [
    {
     "name": "stderr",
     "output_type": "stream",
     "text": [
      "/Users/alfred/miniconda3/envs/llm-experiment/lib/python3.12/site-packages/tqdm/auto.py:21: TqdmWarning: IProgress not found. Please update jupyter and ipywidgets. See https://ipywidgets.readthedocs.io/en/stable/user_install.html\n",
      "  from .autonotebook import tqdm as notebook_tqdm\n"
     ]
    }
   ],
   "execution_count": 12
  },
  {
   "metadata": {
    "ExecuteTime": {
     "end_time": "2025-03-21T10:52:24.981075Z",
     "start_time": "2025-03-21T10:52:24.977957Z"
    }
   },
   "cell_type": "code",
   "source": [
    "#DATASET_NAME = 'prime'\n",
    "DATASET_NAME = 'mag'"
   ],
   "id": "c5c65a484c74738d",
   "outputs": [],
   "execution_count": 13
  },
  {
   "metadata": {
    "ExecuteTime": {
     "end_time": "2025-03-21T10:52:26.093896Z",
     "start_time": "2025-03-21T10:52:26.069637Z"
    }
   },
   "cell_type": "code",
   "source": [
    "# All data needed\n",
    "qa = load_from_disk(f'{DATASET_NAME}-data/qa')"
   ],
   "id": "98c3b012503df869",
   "outputs": [],
   "execution_count": 14
  },
  {
   "metadata": {
    "ExecuteTime": {
     "end_time": "2025-03-21T11:01:41.529748Z",
     "start_time": "2025-03-21T11:01:08.821037Z"
    }
   },
   "cell_type": "code",
   "source": [
    "# Entity matching on all data\n",
    "\n",
    "with open(f\"{DATASET_NAME}-data/ner_instructions.json\", 'r') as f:\n",
    "    ner_instructions = json.load(f) \n",
    "\n",
    "with GraphDatabase.driver(NEO4J_URI, auth=(NEO4J_USERNAME, NEO4J_PASSWORD)) as driver:\n",
    "    ner = NER(ner_instructions, openai_api_key=OPENAI_API_KEY)\n",
    "    qa_with_ner = qa \\\n",
    "        .map(lambda x: x | {'predicted_entities' : ner.find_source_nodes(x['question'], driver=driver)}, num_proc=8)\n",
    "qa_with_ner.save_to_disk(f'{DATASET_NAME}-data/qa_with_ner')"
   ],
   "id": "62a209a29f997d3c",
   "outputs": [
    {
     "name": "stderr",
     "output_type": "stream",
     "text": [
      "Map (num_proc=8): 100%|██████████| 10/10 [00:06<00:00,  1.66 examples/s]\n",
      "Map (num_proc=8): 100%|██████████| 10/10 [00:03<00:00,  2.59 examples/s]\n",
      "Map (num_proc=8): 100%|██████████| 10/10 [00:03<00:00,  2.60 examples/s]\n"
     ]
    },
    {
     "data": {
      "text/plain": [
       "DatasetDict({\n",
       "    train: Dataset({\n",
       "        features: ['id', 'answer_ids', 'question', 'predicted_entities'],\n",
       "        num_rows: 10\n",
       "    })\n",
       "    valid: Dataset({\n",
       "        features: ['id', 'answer_ids', 'question', 'predicted_entities'],\n",
       "        num_rows: 10\n",
       "    })\n",
       "    test: Dataset({\n",
       "        features: ['id', 'answer_ids', 'question', 'predicted_entities'],\n",
       "        num_rows: 10\n",
       "    })\n",
       "})"
      ]
     },
     "execution_count": 22,
     "metadata": {},
     "output_type": "execute_result"
    }
   ],
   "execution_count": 22
  },
  {
   "metadata": {
    "ExecuteTime": {
     "end_time": "2025-03-13T11:50:20.713321Z",
     "start_time": "2025-03-13T11:29:15.698621Z"
    }
   },
   "cell_type": "code",
   "source": [
    "qa_with_ner = load_from_disk(f'{DATASET_NAME}-data/qa_with_ner')\n",
    "\n",
    "with GraphDatabase.driver(NEO4J_URI, auth=(NEO4J_USERNAME, NEO4J_PASSWORD)) as driver:\n",
    "    path_retriever = PathRetriever(dataset_name=DATASET_NAME)\n",
    "    \n",
    "    qa_with_cypher_queries = qa_with_ner \\\n",
    "        .map(lambda x: x | path_retriever.retrieve_paths(driver=driver, src_names=x['predicted_entities'], tgt_ids=x['answer_ids']), num_proc=8)\n",
    "    \n",
    "qa_with_cypher_queries.save_to_disk(f'{DATASET_NAME}-data/qa_with_cypher_queries')"
   ],
   "id": "2657f88726db13e7",
   "outputs": [
    {
     "data": {
      "text/plain": [
       "Map (num_proc=8):   0%|          | 0/2665 [00:00<?, ? examples/s]"
      ],
      "application/vnd.jupyter.widget-view+json": {
       "version_major": 2,
       "version_minor": 0,
       "model_id": "f9f3bcd4138a4648a1f6c060116cad0a"
      }
     },
     "metadata": {},
     "output_type": "display_data"
    },
    {
     "data": {
      "text/plain": [
       "Saving the dataset (0/1 shards):   0%|          | 0/2665 [00:00<?, ? examples/s]"
      ],
      "application/vnd.jupyter.widget-view+json": {
       "version_major": 2,
       "version_minor": 0,
       "model_id": "ef3022d09c974ad6b2110e52725342b0"
      }
     },
     "metadata": {},
     "output_type": "display_data"
    }
   ],
   "execution_count": 22
  }
 ],
 "metadata": {
  "kernelspec": {
   "display_name": "Python 3",
   "language": "python",
   "name": "python3"
  },
  "language_info": {
   "codemirror_mode": {
    "name": "ipython",
    "version": 2
   },
   "file_extension": ".py",
   "mimetype": "text/x-python",
   "name": "python",
   "nbconvert_exporter": "python",
   "pygments_lexer": "ipython2",
   "version": "2.7.6"
  }
 },
 "nbformat": 4,
 "nbformat_minor": 5
}
