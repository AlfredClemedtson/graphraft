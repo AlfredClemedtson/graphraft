{
 "cells": [
  {
   "metadata": {
    "ExecuteTime": {
     "end_time": "2025-04-07T10:36:00.850872Z",
     "start_time": "2025-04-07T10:36:00.842465Z"
    }
   },
   "cell_type": "code",
   "source": [
    "%load_ext autoreload\n",
    "%autoreload 2"
   ],
   "id": "4eee0d45b2f7b1a7",
   "outputs": [],
   "execution_count": 2
  },
  {
   "metadata": {
    "ExecuteTime": {
     "end_time": "2025-04-08T08:41:49.960196Z",
     "start_time": "2025-04-08T08:41:49.932377Z"
    }
   },
   "cell_type": "code",
   "source": [
    "from datasets import load_from_disk, DatasetDict\n",
    "import torch\n",
    "\n",
    "from retrieval.retriever import Retriever\n",
    "\n",
    "from neo4j import GraphDatabase\n",
    "from dotenv import load_dotenv\n",
    "import os\n",
    "load_dotenv('.env', override=True)\n",
    "NEO4J_URI = os.getenv('NEO4J_URI')\n",
    "NEO4J_USERNAME = os.getenv('NEO4J_USERNAME')\n",
    "NEO4J_PASSWORD = os.getenv('NEO4J_PASSWORD')\n",
    "NEO4J_URI"
   ],
   "id": "121d6a64e873b866",
   "outputs": [
    {
     "data": {
      "text/plain": [
       "'bolt://localhost:7687'"
      ]
     },
     "execution_count": 12,
     "metadata": {},
     "output_type": "execute_result"
    }
   ],
   "execution_count": 12
  },
  {
   "metadata": {
    "ExecuteTime": {
     "end_time": "2025-04-07T10:36:04.838151Z",
     "start_time": "2025-04-07T10:36:04.826573Z"
    }
   },
   "cell_type": "code",
   "source": [
    "#DATASET_NAME = 'prime'\n",
    "DATASET_NAME = 'mag'"
   ],
   "id": "d059b80113fe8a16",
   "outputs": [],
   "execution_count": 4
  },
  {
   "metadata": {
    "ExecuteTime": {
     "end_time": "2025-04-07T10:36:43.304802Z",
     "start_time": "2025-04-07T10:36:39.799269Z"
    }
   },
   "cell_type": "code",
   "source": [
    "COUNT_TOKENS = True\n",
    "MAX_NODES = ...\n",
    "MAX_TOKENS = 10_000\n",
    "EF = 10_000\n",
    "CYPHER_RATE = 1\n",
    "\n",
    "match DATASET_NAME:\n",
    "    case 'prime':\n",
    "        node_properties = ['name', 'details']\n",
    "        sorting_index = 'textEmbedding'\n",
    "        vector_index = 'textEmbedding'\n",
    "    case 'mag':\n",
    "        node_properties = ['name','abstract']\n",
    "        sorting_index = 'nameEmbedding' #Is actually the abstract embedding for papers\n",
    "        vector_index = 'abstractEmbedding'\n",
    "    case _:\n",
    "        raise Exception('Unrecognized dataset name')\n",
    "\n",
    "from transformers import AutoTokenizer\n",
    "tokenizer = AutoTokenizer.from_pretrained('meta-llama/Llama-3.1-8B-Instruct')\n",
    "retriever = Retriever(node_properties=node_properties, sorting_index=sorting_index, vector_index=vector_index,\n",
    "                      pattern_rate=CYPHER_RATE, ef=EF,\n",
    "                      count_tokens=COUNT_TOKENS, max_nodes=MAX_NODES, max_tokens=MAX_TOKENS, formatter=None,\n",
    "                      tokenizer=tokenizer)"
   ],
   "id": "d8e69647eb0b7f61",
   "outputs": [],
   "execution_count": 5
  },
  {
   "metadata": {
    "ExecuteTime": {
     "end_time": "2025-04-07T10:36:47.437448Z",
     "start_time": "2025-04-07T10:36:47.414890Z"
    }
   },
   "cell_type": "code",
   "source": "#dbms.setConfigValue('db.transaction.timeout','10s')",
   "id": "7d7106b81c660363",
   "outputs": [],
   "execution_count": 6
  },
  {
   "metadata": {
    "ExecuteTime": {
     "end_time": "2025-04-07T10:36:48.840591Z",
     "start_time": "2025-04-07T10:36:48.361799Z"
    }
   },
   "cell_type": "code",
   "source": [
    "def sort_queries(data: dict) -> dict:\n",
    "    cyphers, hits, num_results = data['cypher_queries'], data['hits'], data['num_results']\n",
    "    ordered_cypher_queries, _, _ = zip(*sorted(zip(cyphers, hits, num_results), key=lambda x: (-x[1],x[2])))\n",
    "    return ordered_cypher_queries\n",
    "\n",
    "import random\n",
    "def sample(num, max_idx, alpha):\n",
    "    inv_cdf = lambda x: x**(1/alpha)\n",
    "    samples = []\n",
    "    while len(samples) < num:\n",
    "        x = random.uniform(0,1)\n",
    "        rank = int(max_idx * inv_cdf(x))\n",
    "        if rank not in samples:\n",
    "            samples.append(rank)\n",
    "    return samples\n",
    "\n",
    "def sample_cypher_queries(data: dict, num_samples: int, alpha: float) -> list[str]:\n",
    "    true_ordered_cyphers = sort_queries(data)\n",
    "    max_idx = len(true_ordered_cyphers)\n",
    "    num_samples = min(num_samples, max_idx)\n",
    "    ids = sample(num=num_samples, max_idx=max_idx, alpha=alpha)\n",
    "    top_cypher_queries = [true_ordered_cyphers[idx] for idx in ids]\n",
    "    return top_cypher_queries\n",
    "    #data['top_cypher_queries'] = top_cypher_queries\n",
    "    # return data\n",
    "\n",
    "qa_with_sampled_cypher_queries_train = load_from_disk(f\"{DATASET_NAME}-data/qa_with_cypher_queries/train\").map(lambda x: x | {'top_cypher_queries': sample_cypher_queries(x, num_samples=5, alpha=0.1)})"
   ],
   "id": "e2dcbe0687b87246",
   "outputs": [
    {
     "name": "stderr",
     "output_type": "stream",
     "text": [
      "Map: 100%|██████████| 7993/7993 [00:00<00:00, 18506.26 examples/s]\n"
     ]
    }
   ],
   "execution_count": 7
  },
  {
   "metadata": {
    "ExecuteTime": {
     "end_time": "2025-04-08T09:45:26.046842Z",
     "start_time": "2025-04-08T09:45:26.001086Z"
    }
   },
   "cell_type": "code",
   "source": "sum(['RETURN D' in x for xs in load_from_disk(f\"{DATASET_NAME}-data/qa_with_cypher_queries\")['train']['cypher_queries'] for x in xs])",
   "id": "c28143a9abd8a823",
   "outputs": [
    {
     "data": {
      "text/plain": [
       "0"
      ]
     },
     "execution_count": 22,
     "metadata": {},
     "output_type": "execute_result"
    }
   ],
   "execution_count": 22
  },
  {
   "metadata": {},
   "cell_type": "code",
   "outputs": [],
   "execution_count": null,
   "source": "load_from_disk(f\"{DATASET_NAME}-data/qa_with_cypher_queries/train\").map(lambda x: x | {'top_cypher_queries': [q.replace('RETURN x', 'RETURN DISTINCT x') for q in x['top_cypher_queries']]})",
   "id": "f80c1f8c91c42393"
  },
  {
   "metadata": {},
   "cell_type": "code",
   "source": [
    "qa_with_generated_cypher_queries_valid = load_from_disk(f\"{DATASET_NAME}-data/qa_with_generated_cypher_queries/valid\")\n",
    "qa_with_generated_cypher_queries_test = load_from_disk(f\"{DATASET_NAME}-data/qa_with_generated_cypher_queries/test\")\n",
    "\n",
    "qa_with_ranked_queries = DatasetDict({'train': qa_with_sampled_cypher_queries_train,\n",
    "                                      'valid': qa_with_generated_cypher_queries_valid,\n",
    "                                      'test':  qa_with_generated_cypher_queries_test})\n",
    "\n",
    "q_embs = torch.load(f\"{DATASET_NAME}-data/text-embeddings-ada-002/query/query_emb_dict.pt\", weights_only=False)\n",
    "\n",
    "with GraphDatabase.driver(NEO4J_URI, auth=(NEO4J_USERNAME, NEO4J_PASSWORD)) as driver:\n",
    "    qa_with_retrieved_data = qa_with_ranked_queries \\\n",
    "        .map(lambda x: x | {'q_emb' : q_embs[x['id']].tolist()[0]}) \\\n",
    "        .map(lambda x: x | {'data' : str(retriever.retrieve_data(driver=driver, cypher_queries=x['top_cypher_queries'], q_emb=x['q_emb']))}, num_proc=8)\n",
    "\n",
    "qa_with_retrieved_data.save_to_disk(f\"{DATASET_NAME}-data/qa_with_retrieved_data\")"
   ],
   "id": "25e4d650bb4e1a4d",
   "outputs": [],
   "execution_count": null
  },
  {
   "metadata": {},
   "cell_type": "code",
   "source": [
    "from compute_metrics import compute_metrics\n",
    "\n",
    "predss = [[data['nodeId'] for data in eval(datas_strs)] for datas_strs in qa_with_retrieved_data['test']['data']]\n",
    "labelss = [x for x in qa_with_retrieved_data['test']['answer_ids']]\n",
    "\n",
    "_ = compute_metrics(predss=predss, labelss=labelss, metrics=['precision', 'recall', 'f1', 'hit@1', 'hit@5', 'recall@20', 'mrr', 'num_nodes'])"
   ],
   "id": "367973030dddf521",
   "outputs": [],
   "execution_count": null
  }
 ],
 "metadata": {
  "kernelspec": {
   "display_name": "Python 3",
   "language": "python",
   "name": "python3"
  },
  "language_info": {
   "codemirror_mode": {
    "name": "ipython",
    "version": 2
   },
   "file_extension": ".py",
   "mimetype": "text/x-python",
   "name": "python",
   "nbconvert_exporter": "python",
   "pygments_lexer": "ipython2",
   "version": "2.7.6"
  }
 },
 "nbformat": 4,
 "nbformat_minor": 5
}
