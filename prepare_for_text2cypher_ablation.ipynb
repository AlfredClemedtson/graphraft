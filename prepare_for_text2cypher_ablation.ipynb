{
 "cells": [
  {
   "cell_type": "code",
   "id": "initial_id",
   "metadata": {
    "collapsed": true,
    "ExecuteTime": {
     "end_time": "2025-03-19T15:16:39.309018Z",
     "start_time": "2025-03-19T15:16:38.069011Z"
    }
   },
   "source": [
    "import os\n",
    "from dotenv import load_dotenv\n",
    "from neo4j import GraphDatabase\n",
    "from datasets import load_from_disk\n",
    "from ner import NER\n",
    "from path_retriever import PathRetriever\n",
    "\n",
    "load_dotenv('db.env', override=True)\n",
    "NEO4J_URI = os.getenv('NEO4J_URI')\n",
    "NEO4J_USERNAME = os.getenv('NEO4J_USERNAME')\n",
    "NEO4J_PASSWORD = os.getenv('NEO4J_PASSWORD')\n",
    "OPENAI_API_KEY = os.getenv('OPENAI_API_KEY')"
   ],
   "outputs": [],
   "execution_count": 1
  },
  {
   "metadata": {
    "ExecuteTime": {
     "end_time": "2025-03-19T15:16:39.325677Z",
     "start_time": "2025-03-19T15:16:39.312112Z"
    }
   },
   "cell_type": "code",
   "source": [
    "%load_ext autoreload\n",
    "%autoreload 2"
   ],
   "id": "b422348b49b2da72",
   "outputs": [],
   "execution_count": 2
  },
  {
   "metadata": {
    "ExecuteTime": {
     "end_time": "2025-03-19T15:16:42.459752Z",
     "start_time": "2025-03-19T15:16:42.109987Z"
    }
   },
   "cell_type": "code",
   "source": [
    "DATASET_NAME = 'prime'\n",
    "qa = load_from_disk(f'{DATASET_NAME}-data/qa')"
   ],
   "id": "8f39895255bd191a",
   "outputs": [],
   "execution_count": 3
  },
  {
   "metadata": {
    "ExecuteTime": {
     "end_time": "2025-03-19T14:49:39.760823Z",
     "start_time": "2025-03-19T14:49:39.736081Z"
    }
   },
   "cell_type": "code",
   "source": "#qa['train'].filter(lambda _,i: i < 10, with_indices=True)",
   "id": "f853e857680734f4",
   "outputs": [
    {
     "data": {
      "text/plain": [
       "Dataset({\n",
       "    features: ['id', 'question', 'answer_ids'],\n",
       "    num_rows: 10\n",
       "})"
      ]
     },
     "execution_count": 4,
     "metadata": {},
     "output_type": "execute_result"
    }
   ],
   "execution_count": 4
  },
  {
   "metadata": {
    "ExecuteTime": {
     "end_time": "2025-03-19T15:16:57.329664Z",
     "start_time": "2025-03-19T15:16:56.286533Z"
    }
   },
   "cell_type": "code",
   "source": [
    "import torch\n",
    "question_embs = torch.load('prime-data/query_emb_dict.pt')"
   ],
   "id": "2d935e7ebd236069",
   "outputs": [
    {
     "name": "stderr",
     "output_type": "stream",
     "text": [
      "/var/folders/rp/zlbqb_1d7j53cg1t8g_qq8q40000gn/T/ipykernel_15036/3521794148.py:2: FutureWarning: You are using `torch.load` with `weights_only=False` (the current default value), which uses the default pickle module implicitly. It is possible to construct malicious pickle data which will execute arbitrary code during unpickling (See https://github.com/pytorch/pytorch/blob/main/SECURITY.md#untrusted-models for more details). In a future release, the default value for `weights_only` will be flipped to `True`. This limits the functions that could be executed during unpickling. Arbitrary objects will no longer be allowed to be loaded via this mode unless they are explicitly allowlisted by the user via `torch.serialization.add_safe_globals`. We recommend you start setting `weights_only=True` for any use case where you don't have full control of the loaded file. Please open an issue on GitHub for any issues related to this experimental feature.\n",
      "  question_embs = torch.load('prime-data/query_emb_dict.pt')\n"
     ]
    }
   ],
   "execution_count": 4
  },
  {
   "metadata": {
    "ExecuteTime": {
     "end_time": "2025-03-19T15:16:59.598435Z",
     "start_time": "2025-03-19T15:16:59.578022Z"
    }
   },
   "cell_type": "code",
   "source": "len(question_embs[0].tolist()[0])",
   "id": "f5fea0fab1638d7c",
   "outputs": [
    {
     "data": {
      "text/plain": [
       "1536"
      ]
     },
     "execution_count": 5,
     "metadata": {},
     "output_type": "execute_result"
    }
   ],
   "execution_count": 5
  },
  {
   "metadata": {
    "ExecuteTime": {
     "end_time": "2025-03-19T15:17:00.494056Z",
     "start_time": "2025-03-19T15:17:00.472744Z"
    }
   },
   "cell_type": "code",
   "source": [
    "from neo4j import Driver\n",
    "\n",
    "def find_knn_nodes(question_id: int, driver: Driver, k=5):\n",
    "    query_embedding = question_embs[question_id].tolist()[0]\n",
    "    res = driver.execute_query(\"\"\"\n",
    "    CALL db.index.vector.queryNodes($index, $k, $query_embedding) YIELD node\n",
    "    RETURN node.name AS name\n",
    "    \"\"\",\n",
    "                               parameters_={\n",
    "                                   \"index\": \"text_embeddings\",\n",
    "                                   \"k\": k,\n",
    "                                   \"query_embedding\": query_embedding})\n",
    "    return [rec.data()['name'] for rec in res.records]\n"
   ],
   "id": "8cf54867bd2c7b47",
   "outputs": [],
   "execution_count": 6
  },
  {
   "metadata": {
    "ExecuteTime": {
     "end_time": "2025-03-19T15:18:51.187521Z",
     "start_time": "2025-03-19T15:18:38.575568Z"
    }
   },
   "cell_type": "code",
   "source": [
    "# Entity matching on all data\n",
    "with GraphDatabase.driver(NEO4J_URI, auth=(NEO4J_USERNAME, NEO4J_PASSWORD)) as driver:\n",
    "    ner = NER(dataset_name=DATASET_NAME, driver=driver)\n",
    "    qa_with_ner = qa['train'] \\\n",
    "        .map(lambda x: x | {'predicted_entities' : find_knn_nodes(x['id'], driver=driver, k=2)}, num_proc=8)"
   ],
   "id": "18828643994125d8",
   "outputs": [
    {
     "name": "stderr",
     "output_type": "stream",
     "text": [
      "Parameter 'function'=<function <lambda> at 0x316520180> of the transform datasets.arrow_dataset.Dataset._map_single couldn't be hashed properly, a random hash was used instead. Make sure your transforms and parameters are serializable with pickle or dill for the dataset fingerprinting and caching to work. If you reuse this transform, the caching mechanism will consider it to be different from the previous calls and recompute everything. This warning is only showed once. Subsequent hashing failures won't be showed.\n"
     ]
    },
    {
     "data": {
      "text/plain": [
       "Map (num_proc=8):   0%|          | 0/6162 [00:00<?, ? examples/s]"
      ],
      "application/vnd.jupyter.widget-view+json": {
       "version_major": 2,
       "version_minor": 0,
       "model_id": "d1ae5b92ad9a4d548b87c6ebaf1526dc"
      }
     },
     "metadata": {},
     "output_type": "display_data"
    },
    {
     "name": "stderr",
     "output_type": "stream",
     "text": [
      "Failed to read from defunct connection IPv4Address(('localhost', 7687)) (ResolvedIPv4Address(('127.0.0.1', 7687)))\n",
      "Failed to read from defunct connection IPv4Address(('localhost', 7687)) (ResolvedIPv4Address(('127.0.0.1', 7687)))\n",
      "Failed to read from defunct connection IPv4Address(('localhost', 7687)) (ResolvedIPv4Address(('127.0.0.1', 7687)))\n",
      "Failed to read from defunct connection IPv4Address(('localhost', 7687)) (ResolvedIPv4Address(('127.0.0.1', 7687)))\n",
      "Failed to read from defunct connection IPv4Address(('localhost', 7687)) (ResolvedIPv4Address(('127.0.0.1', 7687)))\n",
      "Failed to read from defunct connection IPv4Address(('localhost', 7687)) (ResolvedIPv4Address(('127.0.0.1', 7687)))\n",
      "Failed to read from defunct connection IPv4Address(('localhost', 7687)) (ResolvedIPv4Address(('127.0.0.1', 7687)))\n",
      "Failed to read from defunct connection IPv4Address(('localhost', 7687)) (ResolvedIPv4Address(('127.0.0.1', 7687)))\n",
      "Transaction failed and will be retried in 0.9343235275378227s (Failed to read from defunct connection IPv4Address(('localhost', 7687)) (ResolvedIPv4Address(('127.0.0.1', 7687))))\n",
      "Transaction failed and will be retried in 1.1573990506859262s (Failed to read from defunct connection IPv4Address(('localhost', 7687)) (ResolvedIPv4Address(('127.0.0.1', 7687))))\n",
      "Transaction failed and will be retried in 0.9061878687637935s (Failed to read from defunct connection IPv4Address(('localhost', 7687)) (ResolvedIPv4Address(('127.0.0.1', 7687))))\n",
      "Transaction failed and will be retried in 0.9310092714736504s (Failed to read from defunct connection IPv4Address(('localhost', 7687)) (ResolvedIPv4Address(('127.0.0.1', 7687))))\n",
      "Transaction failed and will be retried in 1.071484573138269s (Failed to read from defunct connection IPv4Address(('localhost', 7687)) (ResolvedIPv4Address(('127.0.0.1', 7687))))\n",
      "Transaction failed and will be retried in 1.1399147749721272s (Failed to read from defunct connection IPv4Address(('localhost', 7687)) (ResolvedIPv4Address(('127.0.0.1', 7687))))\n",
      "Transaction failed and will be retried in 1.0955290581101105s (Failed to read from defunct connection IPv4Address(('localhost', 7687)) (ResolvedIPv4Address(('127.0.0.1', 7687))))\n",
      "Transaction failed and will be retried in 0.9345578213264512s (Failed to read from defunct connection IPv4Address(('localhost', 7687)) (ResolvedIPv4Address(('127.0.0.1', 7687))))\n"
     ]
    }
   ],
   "execution_count": 7
  },
  {
   "metadata": {
    "ExecuteTime": {
     "end_time": "2025-03-19T15:20:38.997814Z",
     "start_time": "2025-03-19T15:20:38.974863Z"
    }
   },
   "cell_type": "code",
   "source": "qa_with_ner",
   "id": "b000e0b4a258dc0a",
   "outputs": [
    {
     "data": {
      "text/plain": [
       "Dataset({\n",
       "    features: ['id', 'question', 'answer_ids', 'predicted_entities'],\n",
       "    num_rows: 6162\n",
       "})"
      ]
     },
     "execution_count": 8,
     "metadata": {},
     "output_type": "execute_result"
    }
   ],
   "execution_count": 8
  },
  {
   "metadata": {
    "ExecuteTime": {
     "end_time": "2025-03-19T15:57:36.540941Z",
     "start_time": "2025-03-19T15:21:01.666543Z"
    }
   },
   "cell_type": "code",
   "source": [
    "with GraphDatabase.driver(NEO4J_URI, auth=(NEO4J_USERNAME, NEO4J_PASSWORD)) as driver:\n",
    "    path_retriever = PathRetriever(dataset_name=DATASET_NAME)\n",
    "\n",
    "    qa_with_cypher_queries = qa_with_ner \\\n",
    "        .map(lambda x: x | path_retriever.retrieve_paths(driver=driver, src_names=x['predicted_entities'], tgt_ids=x['answer_ids']), num_proc=8)"
   ],
   "id": "a960242624096785",
   "outputs": [
    {
     "data": {
      "text/plain": [
       "Map (num_proc=8):   0%|          | 0/6162 [00:00<?, ? examples/s]"
      ],
      "application/vnd.jupyter.widget-view+json": {
       "version_major": 2,
       "version_minor": 0,
       "model_id": "7b28c9f923594c999124d1e45b57f940"
      }
     },
     "metadata": {},
     "output_type": "display_data"
    }
   ],
   "execution_count": 9
  },
  {
   "metadata": {
    "ExecuteTime": {
     "end_time": "2025-03-19T15:58:10.681210Z",
     "start_time": "2025-03-19T15:58:10.650861Z"
    }
   },
   "cell_type": "code",
   "source": "qa_with_cypher_queries",
   "id": "7d50e994a160943",
   "outputs": [
    {
     "data": {
      "text/plain": [
       "Dataset({\n",
       "    features: ['id', 'question', 'answer_ids', 'predicted_entities', 'cypher_queries', 'hits', 'num_results'],\n",
       "    num_rows: 6162\n",
       "})"
      ]
     },
     "execution_count": 10,
     "metadata": {},
     "output_type": "execute_result"
    }
   ],
   "execution_count": 10
  },
  {
   "metadata": {
    "ExecuteTime": {
     "end_time": "2025-03-19T16:00:27.500185Z",
     "start_time": "2025-03-19T16:00:27.454602Z"
    }
   },
   "cell_type": "code",
   "source": "qa_with_cypher_queries.save_to_disk('prime-data/qa_with_cyphers_2nn/')",
   "id": "20d7b55cbb248e6d",
   "outputs": [
    {
     "data": {
      "text/plain": [
       "Saving the dataset (0/1 shards):   0%|          | 0/6162 [00:00<?, ? examples/s]"
      ],
      "application/vnd.jupyter.widget-view+json": {
       "version_major": 2,
       "version_minor": 0,
       "model_id": "b25fe163bc274ad7bc85f473c4fbe363"
      }
     },
     "metadata": {},
     "output_type": "display_data"
    }
   ],
   "execution_count": 11
  },
  {
   "metadata": {
    "ExecuteTime": {
     "end_time": "2025-03-19T14:50:26.852288Z",
     "start_time": "2025-03-19T14:50:26.828620Z"
    }
   },
   "cell_type": "code",
   "source": "qa_with_cypher_queries_df = qa_with_cypher_queries.to_pandas()",
   "id": "ba194b220f932772",
   "outputs": [],
   "execution_count": 11
  },
  {
   "metadata": {
    "ExecuteTime": {
     "end_time": "2025-03-19T16:00:45.032848Z",
     "start_time": "2025-03-19T16:00:45.006970Z"
    }
   },
   "cell_type": "code",
   "source": "qa_with_cypher_queries[0]",
   "id": "5848defde58a91b5",
   "outputs": [
    {
     "data": {
      "text/plain": [
       "{'id': 2,\n",
       " 'question': 'What is the name of the condition characterized by a complete interruption of the inferior vena cava, falling under congenital vena cava anomalies?',\n",
       " 'answer_ids': [98851, 98853],\n",
       " 'predicted_entities': ['inferior vena cava interruption',\n",
       "  'congenital stenosis of the inferior vena cava'],\n",
       " 'cypher_queries': ['MATCH (x1:Disease {name: \"inferior vena cava interruption\"})-[r1:PARENT_CHILD]-(x2:Disease) RETURN x2.name AS name',\n",
       "  'MATCH (x1:Disease {name: \"congenital stenosis of the inferior vena cava\"})-[r1:PARENT_CHILD]-(x2:Disease) RETURN x2.name AS name',\n",
       "  'MATCH (x1:Disease {name: \"inferior vena cava interruption\"})-[r1:PARENT_CHILD]-(x2:Disease)-[r2:PARENT_CHILD]-(x3:Disease) RETURN x3.name AS name',\n",
       "  'MATCH (x1:Disease {name: \"congenital stenosis of the inferior vena cava\"})-[r1:PARENT_CHILD]-(x2:Disease)-[r2:PARENT_CHILD]-(x3:Disease) RETURN x3.name AS name',\n",
       "  'MATCH (x1:Disease {name: \"inferior vena cava interruption\"})-[r1:PARENT_CHILD]-(x2:Disease)-[r2:PARENT_CHILD]-(x3:Disease {name: \"congenital stenosis of the inferior vena cava\"}) RETURN x2.name AS name',\n",
       "  'MATCH (x1:Disease {name: \"congenital stenosis of the inferior vena cava\"})-[r1:PARENT_CHILD]-(x2:Disease)-[r2:PARENT_CHILD]-(x3:Disease {name: \"inferior vena cava interruption\"}) RETURN x2.name AS name'],\n",
       " 'hits': [0, 0, 1, 2, 0, 0],\n",
       " 'num_results': [1, 1, 10, 10, 1, 1]}"
      ]
     },
     "execution_count": 12,
     "metadata": {},
     "output_type": "execute_result"
    }
   ],
   "execution_count": 12
  },
  {
   "metadata": {
    "ExecuteTime": {
     "end_time": "2025-03-19T16:01:08.374289Z",
     "start_time": "2025-03-19T16:01:08.342840Z"
    }
   },
   "cell_type": "code",
   "source": "qa_with_cypher_main = load_from_disk('prime-data/qa_with_cyphers')",
   "id": "604c751845f8deb6",
   "outputs": [],
   "execution_count": 13
  },
  {
   "metadata": {
    "ExecuteTime": {
     "end_time": "2025-03-19T16:01:09.140081Z",
     "start_time": "2025-03-19T16:01:09.118952Z"
    }
   },
   "cell_type": "code",
   "source": "qa_with_cypher_main['train'][0]",
   "id": "98a892bdcbd45535",
   "outputs": [
    {
     "data": {
      "text/plain": [
       "{'id': 2,\n",
       " 'question': 'What is the name of the condition characterized by a complete interruption of the inferior vena cava, falling under congenital vena cava anomalies?',\n",
       " 'answer_ids': [98851, 98853],\n",
       " 'predicted_entities': ['congenital anomaly of vena cava',\n",
       "  'valve of inferior vena cava'],\n",
       " 'cyphers': ['MATCH (x1:Disease {name: \"congenital anomaly of vena cava\"})-[r1:PARENT_CHILD]-(x2:Disease) RETURN x2.name as name',\n",
       "  'MATCH (x1:Anatomy {name: \"valve of inferior vena cava\"})-[r1:PARENT_CHILD]-(x2:Anatomy) RETURN x2.name as name',\n",
       "  'MATCH (x1:Disease {name: \"congenital anomaly of vena cava\"})-[r1:PARENT_CHILD]-(x2:Disease)-[r2:PARENT_CHILD]-(x3:Disease) RETURN x3.name as name',\n",
       "  'MATCH (x1:Anatomy {name: \"valve of inferior vena cava\"})-[r1:PARENT_CHILD]-(x2:Anatomy)-[r2:PARENT_CHILD]-(x3:Anatomy) RETURN x3.name as name'],\n",
       " 'hits': [2, 0, 0, 0],\n",
       " 'num_results': [11, 1, 4, 2]}"
      ]
     },
     "execution_count": 14,
     "metadata": {},
     "output_type": "execute_result"
    }
   ],
   "execution_count": 14
  },
  {
   "metadata": {
    "ExecuteTime": {
     "end_time": "2025-03-19T15:04:57.092679Z",
     "start_time": "2025-03-19T15:04:57.069057Z"
    }
   },
   "cell_type": "code",
   "source": "qa_with_cypher_queries_df",
   "id": "75edd639ab7d1060",
   "outputs": [
    {
     "data": {
      "text/plain": [
       "   id                                           question  \\\n",
       "0   2  What is the name of the condition characterize...   \n",
       "1   3  What drugs are used to treat epithelioid sarco...   \n",
       "2  10  Please find the genes and proteins that intera...   \n",
       "3  11  What is the rare condition associated with CD5...   \n",
       "4  14  What disease is linked to the HTR1A gene/prote...   \n",
       "5  15  Which pathway is subordinate to 'Metabolic dis...   \n",
       "6  16  What is the inherited dental disorder characte...   \n",
       "7  18  Could you assist in pinpointing a disease akin...   \n",
       "8  19  Can you supply a list of oral medications that...   \n",
       "9  21  What could be the diagnosis for a patient with...   \n",
       "\n",
       "                                          answer_ids  \\\n",
       "0                                     [98851, 98853]   \n",
       "1                                            [15698]   \n",
       "2                                            [11587]   \n",
       "3                                            [28962]   \n",
       "4                                            [29620]   \n",
       "5                                           [128582]   \n",
       "6                                            [39179]   \n",
       "7  [99683, 95077, 98121, 27530, 97773, 39150, 284...   \n",
       "8  [15206, 18891, 18959, 18960, 18961, 18962, 189...   \n",
       "9                                            [33326]   \n",
       "\n",
       "                                  predicted_entities  \\\n",
       "0  [inferior vena cava interruption, congenital s...   \n",
       "1  [Tazemetostat, Erlotinib, CG-200745, Pazopanib...   \n",
       "2  [KSRP (KHSRP) binds and destabilizes mRNA, Tri...   \n",
       "3  [intestinal lymphangiectasia, small intestinal...   \n",
       "4  [menstrual cycle-dependent periodic fever, Rec...   \n",
       "5  [Mineralocorticoid biosynthesis, Glucocorticoi...   \n",
       "6  [hereditary dentin defect, inherited odontolog...   \n",
       "7  [autosomal recessive axonal hereditary motor a...   \n",
       "8                [HDAC8, HDAC7, HDAC9, HDAC2, HDAC3]   \n",
       "9  [multiple symmetric lipomatosis, Lipedema (dis...   \n",
       "\n",
       "                                      cypher_queries  \\\n",
       "0  [MATCH (x1:Disease {name: \"inferior vena cava ...   \n",
       "1  [MATCH (x1:Drug {name: \"Tazemetostat\"})-[r1:EN...   \n",
       "2  [MATCH (x1:Pathway {name: \"KSRP (KHSRP) binds ...   \n",
       "3  [MATCH (x1:Disease {name: \"intestinal lymphang...   \n",
       "4  [MATCH (x1:Disease {name: \"menstrual cycle-dep...   \n",
       "5  [MATCH (x1:Pathway {name: \"Mineralocorticoid b...   \n",
       "6  [MATCH (x1:Disease {name: \"hereditary dentin d...   \n",
       "7  [MATCH (x1:Disease {name: \"autosomal recessive...   \n",
       "8  [MATCH (x1:GeneOrProtein {name: \"HDAC8\"})-[r1:...   \n",
       "9  [MATCH (x1:Disease {name: \"multiple symmetric ...   \n",
       "\n",
       "                                                hits  \\\n",
       "0  [0, 0, 2, 0, 0, 1, 2, 0, 2, 2, 0, 0, 0, 0, 0, ...   \n",
       "1  [0, 0, 0, 0, 0, 0, 0, 0, 0, 0, 0, 0, 1, 0, 0, ...   \n",
       "2  [0, 1, 0, 1, 0, 0, 0, 0, 0, 0, 0, 0, 0, 0, 0, ...   \n",
       "3  [0, 0, 0, 0, 0, 0, 0, 0, 0, 0, 0, 0, 0, 0, 0, ...   \n",
       "4  [0, 0, 0, 0, 0, 0, 0, 0, 0, 0, 0, 0, 1, 0, 0, ...   \n",
       "5  [0, 0, 0, 0, 0, 0, 0, 0, 0, 0, 0, 0, 0, 0, 0, ...   \n",
       "6  [0, 1, 0, 0, 0, 0, 0, 0, 0, 0, 0, 0, 0, 0, 0, ...   \n",
       "7  [10, 2, 1, 0, 0, 0, 0, 0, 2, 0, 0, 0, 0, 2, 0,...   \n",
       "8  [0, 12, 0, 0, 0, 0, 0, 0, 0, 3, 0, 0, 0, 0, 0,...   \n",
       "9  [0, 0, 0, 0, 0, 0, 0, 0, 0, 0, 0, 0, 0, 0, 0, ...   \n",
       "\n",
       "                                         num_results  \n",
       "0  [1, 1, 11, 1, 1, 10, 10, 4, 10, 10, 1, 1, 1, 1...  \n",
       "1  [4, 2, 4, 2, 627, 2, 8, 2, 3, 32, 3, 72, 1253,...  \n",
       "2  [1, 17, 1, 17, 1, 46, 10, 201, 1, 32, 5, 1525,...  \n",
       "3  [1, 1, 37, 4, 1, 2, 23, 5, 15, 3, 37, 1, 7, 3,...  \n",
       "4  [1, 1, 4, 3, 62, 1, 1, 3, 44, 27, 7, 1, 289, 6...  \n",
       "5  [1, 6, 1, 10, 1, 12, 6, 1, 11, 5, 72, 17, 13, ...  \n",
       "6  [3, 25, 1, 4, 1, 10, 1, 2, 5, 27, 34, 1, 75, 1...  \n",
       "7  [12, 6, 5, 4, 6, 2, 1, 69, 227, 5, 397, 1, 78,...  \n",
       "8  [39, 19, 2, 7, 7, 11, 6, 105, 105, 3, 6, 10, 6...  \n",
       "9  [2, 3, 13, 1, 3, 1, 2, 1, 139, 19, 8, 10, 22, ...  "
      ],
      "text/html": [
       "<div>\n",
       "<style scoped>\n",
       "    .dataframe tbody tr th:only-of-type {\n",
       "        vertical-align: middle;\n",
       "    }\n",
       "\n",
       "    .dataframe tbody tr th {\n",
       "        vertical-align: top;\n",
       "    }\n",
       "\n",
       "    .dataframe thead th {\n",
       "        text-align: right;\n",
       "    }\n",
       "</style>\n",
       "<table border=\"1\" class=\"dataframe\">\n",
       "  <thead>\n",
       "    <tr style=\"text-align: right;\">\n",
       "      <th></th>\n",
       "      <th>id</th>\n",
       "      <th>question</th>\n",
       "      <th>answer_ids</th>\n",
       "      <th>predicted_entities</th>\n",
       "      <th>cypher_queries</th>\n",
       "      <th>hits</th>\n",
       "      <th>num_results</th>\n",
       "    </tr>\n",
       "  </thead>\n",
       "  <tbody>\n",
       "    <tr>\n",
       "      <th>0</th>\n",
       "      <td>2</td>\n",
       "      <td>What is the name of the condition characterize...</td>\n",
       "      <td>[98851, 98853]</td>\n",
       "      <td>[inferior vena cava interruption, congenital s...</td>\n",
       "      <td>[MATCH (x1:Disease {name: \"inferior vena cava ...</td>\n",
       "      <td>[0, 0, 2, 0, 0, 1, 2, 0, 2, 2, 0, 0, 0, 0, 0, ...</td>\n",
       "      <td>[1, 1, 11, 1, 1, 10, 10, 4, 10, 10, 1, 1, 1, 1...</td>\n",
       "    </tr>\n",
       "    <tr>\n",
       "      <th>1</th>\n",
       "      <td>3</td>\n",
       "      <td>What drugs are used to treat epithelioid sarco...</td>\n",
       "      <td>[15698]</td>\n",
       "      <td>[Tazemetostat, Erlotinib, CG-200745, Pazopanib...</td>\n",
       "      <td>[MATCH (x1:Drug {name: \"Tazemetostat\"})-[r1:EN...</td>\n",
       "      <td>[0, 0, 0, 0, 0, 0, 0, 0, 0, 0, 0, 0, 1, 0, 0, ...</td>\n",
       "      <td>[4, 2, 4, 2, 627, 2, 8, 2, 3, 32, 3, 72, 1253,...</td>\n",
       "    </tr>\n",
       "    <tr>\n",
       "      <th>2</th>\n",
       "      <td>10</td>\n",
       "      <td>Please find the genes and proteins that intera...</td>\n",
       "      <td>[11587]</td>\n",
       "      <td>[KSRP (KHSRP) binds and destabilizes mRNA, Tri...</td>\n",
       "      <td>[MATCH (x1:Pathway {name: \"KSRP (KHSRP) binds ...</td>\n",
       "      <td>[0, 1, 0, 1, 0, 0, 0, 0, 0, 0, 0, 0, 0, 0, 0, ...</td>\n",
       "      <td>[1, 17, 1, 17, 1, 46, 10, 201, 1, 32, 5, 1525,...</td>\n",
       "    </tr>\n",
       "    <tr>\n",
       "      <th>3</th>\n",
       "      <td>11</td>\n",
       "      <td>What is the rare condition associated with CD5...</td>\n",
       "      <td>[28962]</td>\n",
       "      <td>[intestinal lymphangiectasia, small intestinal...</td>\n",
       "      <td>[MATCH (x1:Disease {name: \"intestinal lymphang...</td>\n",
       "      <td>[0, 0, 0, 0, 0, 0, 0, 0, 0, 0, 0, 0, 0, 0, 0, ...</td>\n",
       "      <td>[1, 1, 37, 4, 1, 2, 23, 5, 15, 3, 37, 1, 7, 3,...</td>\n",
       "    </tr>\n",
       "    <tr>\n",
       "      <th>4</th>\n",
       "      <td>14</td>\n",
       "      <td>What disease is linked to the HTR1A gene/prote...</td>\n",
       "      <td>[29620]</td>\n",
       "      <td>[menstrual cycle-dependent periodic fever, Rec...</td>\n",
       "      <td>[MATCH (x1:Disease {name: \"menstrual cycle-dep...</td>\n",
       "      <td>[0, 0, 0, 0, 0, 0, 0, 0, 0, 0, 0, 0, 1, 0, 0, ...</td>\n",
       "      <td>[1, 1, 4, 3, 62, 1, 1, 3, 44, 27, 7, 1, 289, 6...</td>\n",
       "    </tr>\n",
       "    <tr>\n",
       "      <th>5</th>\n",
       "      <td>15</td>\n",
       "      <td>Which pathway is subordinate to 'Metabolic dis...</td>\n",
       "      <td>[128582]</td>\n",
       "      <td>[Mineralocorticoid biosynthesis, Glucocorticoi...</td>\n",
       "      <td>[MATCH (x1:Pathway {name: \"Mineralocorticoid b...</td>\n",
       "      <td>[0, 0, 0, 0, 0, 0, 0, 0, 0, 0, 0, 0, 0, 0, 0, ...</td>\n",
       "      <td>[1, 6, 1, 10, 1, 12, 6, 1, 11, 5, 72, 17, 13, ...</td>\n",
       "    </tr>\n",
       "    <tr>\n",
       "      <th>6</th>\n",
       "      <td>16</td>\n",
       "      <td>What is the inherited dental disorder characte...</td>\n",
       "      <td>[39179]</td>\n",
       "      <td>[hereditary dentin defect, inherited odontolog...</td>\n",
       "      <td>[MATCH (x1:Disease {name: \"hereditary dentin d...</td>\n",
       "      <td>[0, 1, 0, 0, 0, 0, 0, 0, 0, 0, 0, 0, 0, 0, 0, ...</td>\n",
       "      <td>[3, 25, 1, 4, 1, 10, 1, 2, 5, 27, 34, 1, 75, 1...</td>\n",
       "    </tr>\n",
       "    <tr>\n",
       "      <th>7</th>\n",
       "      <td>18</td>\n",
       "      <td>Could you assist in pinpointing a disease akin...</td>\n",
       "      <td>[99683, 95077, 98121, 27530, 97773, 39150, 284...</td>\n",
       "      <td>[autosomal recessive axonal hereditary motor a...</td>\n",
       "      <td>[MATCH (x1:Disease {name: \"autosomal recessive...</td>\n",
       "      <td>[10, 2, 1, 0, 0, 0, 0, 0, 2, 0, 0, 0, 0, 2, 0,...</td>\n",
       "      <td>[12, 6, 5, 4, 6, 2, 1, 69, 227, 5, 397, 1, 78,...</td>\n",
       "    </tr>\n",
       "    <tr>\n",
       "      <th>8</th>\n",
       "      <td>19</td>\n",
       "      <td>Can you supply a list of oral medications that...</td>\n",
       "      <td>[15206, 18891, 18959, 18960, 18961, 18962, 189...</td>\n",
       "      <td>[HDAC8, HDAC7, HDAC9, HDAC2, HDAC3]</td>\n",
       "      <td>[MATCH (x1:GeneOrProtein {name: \"HDAC8\"})-[r1:...</td>\n",
       "      <td>[0, 12, 0, 0, 0, 0, 0, 0, 0, 3, 0, 0, 0, 0, 0,...</td>\n",
       "      <td>[39, 19, 2, 7, 7, 11, 6, 105, 105, 3, 6, 10, 6...</td>\n",
       "    </tr>\n",
       "    <tr>\n",
       "      <th>9</th>\n",
       "      <td>21</td>\n",
       "      <td>What could be the diagnosis for a patient with...</td>\n",
       "      <td>[33326]</td>\n",
       "      <td>[multiple symmetric lipomatosis, Lipedema (dis...</td>\n",
       "      <td>[MATCH (x1:Disease {name: \"multiple symmetric ...</td>\n",
       "      <td>[0, 0, 0, 0, 0, 0, 0, 0, 0, 0, 0, 0, 0, 0, 0, ...</td>\n",
       "      <td>[2, 3, 13, 1, 3, 1, 2, 1, 139, 19, 8, 10, 22, ...</td>\n",
       "    </tr>\n",
       "  </tbody>\n",
       "</table>\n",
       "</div>"
      ]
     },
     "execution_count": 17,
     "metadata": {},
     "output_type": "execute_result"
    }
   ],
   "execution_count": 17
  },
  {
   "metadata": {
    "ExecuteTime": {
     "end_time": "2025-03-19T15:05:16.786218Z",
     "start_time": "2025-03-19T15:05:16.621185Z"
    }
   },
   "cell_type": "code",
   "source": "qa_with_cypher_main_train_df = qa_with_cypher_main['train'].to_pandas()",
   "id": "61fae53b8f289f7e",
   "outputs": [],
   "execution_count": 18
  },
  {
   "metadata": {
    "ExecuteTime": {
     "end_time": "2025-03-19T15:05:18.892845Z",
     "start_time": "2025-03-19T15:05:18.865252Z"
    }
   },
   "cell_type": "code",
   "source": "qa_with_cypher_main_train_df",
   "id": "53309feeb78c7c24",
   "outputs": [
    {
     "data": {
      "text/plain": [
       "         id                                           question  \\\n",
       "0         2  What is the name of the condition characterize...   \n",
       "1         3  What drugs are used to treat epithelioid sarco...   \n",
       "2        10  Please find the genes and proteins that intera...   \n",
       "3        11  What is the rare condition associated with CD5...   \n",
       "4        14  What disease is linked to the HTR1A gene/prote...   \n",
       "...     ...                                                ...   \n",
       "6157  11191  Which factors could potentially impact the eff...   \n",
       "6158  11196  What are the observed effects or phenotypes as...   \n",
       "6159  11198  Which genes or proteins are present in the nas...   \n",
       "6160  11201  Is there an interaction between genes or prote...   \n",
       "6161  11202  Which pharmacological agents that stimulate os...   \n",
       "\n",
       "                                             answer_ids  \\\n",
       "0                                        [98851, 98853]   \n",
       "1                                               [15698]   \n",
       "2                                               [11587]   \n",
       "3                                               [28962]   \n",
       "4                                               [29620]   \n",
       "...                                                 ...   \n",
       "6157                                            [61707]   \n",
       "6158  [22419, 22488, 22682, 23841, 23846, 24570, 94211]   \n",
       "6159                                             [1147]   \n",
       "6160                                    [127611, 62903]   \n",
       "6161                                            [20180]   \n",
       "\n",
       "                                     predicted_entities  \\\n",
       "0     [congenital anomaly of vena cava, valve of inf...   \n",
       "1                           [epithelioid sarcoma, EZH2]   \n",
       "2     [manganese ion binding, KSRP (KHSRP) binds and...   \n",
       "3          [CD55, small intestine, lacteal, lymphedema]   \n",
       "4     [menstrual cycle, HTR1A, Recurrent fever, corp...   \n",
       "...                                                 ...   \n",
       "6157              [Taurocholic acid, protein transport]   \n",
       "6158                [congenital short bowel syndrome 1]   \n",
       "6159    [occipital lobe, nasopharynx connective tissue]   \n",
       "6160  [POLB, DNA-(apurinic or apyrimidinic site) end...   \n",
       "6161  [atelosteogenesis, fibrochondrogenesis, SMAD b...   \n",
       "\n",
       "                                                cyphers  \\\n",
       "0     [MATCH (x1:Disease {name: \"congenital anomaly ...   \n",
       "1     [MATCH (x1:Disease {name: \"epithelioid sarcoma...   \n",
       "2     [MATCH (x1:MolecularFunction {name: \"manganese...   \n",
       "3     [MATCH (x1:GeneOrProtein {name: \"CD55\"})-[r1:P...   \n",
       "4     [MATCH (x1:BiologicalProcess {name: \"menstrual...   \n",
       "...                                                 ...   \n",
       "6157  [MATCH (x1:Drug {name: \"Taurocholic acid\"})-[r...   \n",
       "6158  [MATCH (x1:Disease {name: \"congenital short bo...   \n",
       "6159  [MATCH (x1:Anatomy {name: \"occipital lobe\"})-[...   \n",
       "6160  [MATCH (x1:GeneOrProtein {name: \"POLB\"})-[r1:P...   \n",
       "6161  [MATCH (x1:Disease {name: \"atelosteogenesis\"})...   \n",
       "\n",
       "                                                   hits  \\\n",
       "0                                          [2, 0, 0, 0]   \n",
       "1     [1, 0, 0, 1, 0, 0, 0, 0, 0, 0, 0, 0, 0, 0, 0, ...   \n",
       "2     [0, 1, 0, 1, 0, 0, 0, 0, 0, 0, 0, 0, 0, 0, 0, ...   \n",
       "3     [0, 0, 1, 0, 0, 0, 0, 0, 0, 0, 0, 0, 0, 0, 0, ...   \n",
       "4     [0, 0, 0, 0, 1, 0, 0, 0, 0, 0, 0, 0, 0, 0, 0, ...   \n",
       "...                                                 ...   \n",
       "6157  [0, 0, 0, 0, 0, 0, 0, 0, 0, 0, 0, 0, 0, 0, 0, ...   \n",
       "6158  [0, 0, 1, 0, 0, 0, 0, 0, 0, 0, 0, 0, 0, 0, 7, ...   \n",
       "6159  [0, 0, 1, 0, 0, 1, 0, 0, 0, 0, 0, 0, 0, 0, 0, ...   \n",
       "6160  [0, 0, 0, 0, 1, 0, 0, 0, 0, 0, 0, 0, 0, 0, 0, ...   \n",
       "6161  [0, 0, 0, 0, 0, 0, 0, 0, 0, 0, 0, 0, 0, 0, 0, ...   \n",
       "\n",
       "                                            num_results  \n",
       "0                                         [11, 1, 4, 2]  \n",
       "1     [1, 14, 3, 2, 53, 3, 13, 8, 42, 8, 72, 1, 316,...  \n",
       "2     [1, 64, 1, 17, 10, 19, 14, 145, 401, 1967, 207...  \n",
       "3     [37, 1, 8, 3, 4, 16, 11, 132, 1, 2, 16852, 1, ...  \n",
       "4     [2, 8, 13, 94, 24, 14, 5, 1, 15, 4, 7, 3, 62, ...  \n",
       "...                                                 ...  \n",
       "6157  [3, 24, 547, 23, 356, 37, 12, 27, 4, 22, 10, 5...  \n",
       "6158  [2, 1, 8, 1, 37, 2, 16, 5, 49, 29, 285, 138, 2...  \n",
       "6159  [3, 11135, 131, 1, 7, 17776, 3605, 10680, 1600...  \n",
       "6160  [35, 9, 11, 7, 7, 25, 6, 134, 4, 9, 1, 1, 21, ...  \n",
       "6161  [2, 13, 123, 3, 4, 66, 4, 49, 198, 13, 2, 12, ...  \n",
       "\n",
       "[6162 rows x 7 columns]"
      ],
      "text/html": [
       "<div>\n",
       "<style scoped>\n",
       "    .dataframe tbody tr th:only-of-type {\n",
       "        vertical-align: middle;\n",
       "    }\n",
       "\n",
       "    .dataframe tbody tr th {\n",
       "        vertical-align: top;\n",
       "    }\n",
       "\n",
       "    .dataframe thead th {\n",
       "        text-align: right;\n",
       "    }\n",
       "</style>\n",
       "<table border=\"1\" class=\"dataframe\">\n",
       "  <thead>\n",
       "    <tr style=\"text-align: right;\">\n",
       "      <th></th>\n",
       "      <th>id</th>\n",
       "      <th>question</th>\n",
       "      <th>answer_ids</th>\n",
       "      <th>predicted_entities</th>\n",
       "      <th>cyphers</th>\n",
       "      <th>hits</th>\n",
       "      <th>num_results</th>\n",
       "    </tr>\n",
       "  </thead>\n",
       "  <tbody>\n",
       "    <tr>\n",
       "      <th>0</th>\n",
       "      <td>2</td>\n",
       "      <td>What is the name of the condition characterize...</td>\n",
       "      <td>[98851, 98853]</td>\n",
       "      <td>[congenital anomaly of vena cava, valve of inf...</td>\n",
       "      <td>[MATCH (x1:Disease {name: \"congenital anomaly ...</td>\n",
       "      <td>[2, 0, 0, 0]</td>\n",
       "      <td>[11, 1, 4, 2]</td>\n",
       "    </tr>\n",
       "    <tr>\n",
       "      <th>1</th>\n",
       "      <td>3</td>\n",
       "      <td>What drugs are used to treat epithelioid sarco...</td>\n",
       "      <td>[15698]</td>\n",
       "      <td>[epithelioid sarcoma, EZH2]</td>\n",
       "      <td>[MATCH (x1:Disease {name: \"epithelioid sarcoma...</td>\n",
       "      <td>[1, 0, 0, 1, 0, 0, 0, 0, 0, 0, 0, 0, 0, 0, 0, ...</td>\n",
       "      <td>[1, 14, 3, 2, 53, 3, 13, 8, 42, 8, 72, 1, 316,...</td>\n",
       "    </tr>\n",
       "    <tr>\n",
       "      <th>2</th>\n",
       "      <td>10</td>\n",
       "      <td>Please find the genes and proteins that intera...</td>\n",
       "      <td>[11587]</td>\n",
       "      <td>[manganese ion binding, KSRP (KHSRP) binds and...</td>\n",
       "      <td>[MATCH (x1:MolecularFunction {name: \"manganese...</td>\n",
       "      <td>[0, 1, 0, 1, 0, 0, 0, 0, 0, 0, 0, 0, 0, 0, 0, ...</td>\n",
       "      <td>[1, 64, 1, 17, 10, 19, 14, 145, 401, 1967, 207...</td>\n",
       "    </tr>\n",
       "    <tr>\n",
       "      <th>3</th>\n",
       "      <td>11</td>\n",
       "      <td>What is the rare condition associated with CD5...</td>\n",
       "      <td>[28962]</td>\n",
       "      <td>[CD55, small intestine, lacteal, lymphedema]</td>\n",
       "      <td>[MATCH (x1:GeneOrProtein {name: \"CD55\"})-[r1:P...</td>\n",
       "      <td>[0, 0, 1, 0, 0, 0, 0, 0, 0, 0, 0, 0, 0, 0, 0, ...</td>\n",
       "      <td>[37, 1, 8, 3, 4, 16, 11, 132, 1, 2, 16852, 1, ...</td>\n",
       "    </tr>\n",
       "    <tr>\n",
       "      <th>4</th>\n",
       "      <td>14</td>\n",
       "      <td>What disease is linked to the HTR1A gene/prote...</td>\n",
       "      <td>[29620]</td>\n",
       "      <td>[menstrual cycle, HTR1A, Recurrent fever, corp...</td>\n",
       "      <td>[MATCH (x1:BiologicalProcess {name: \"menstrual...</td>\n",
       "      <td>[0, 0, 0, 0, 1, 0, 0, 0, 0, 0, 0, 0, 0, 0, 0, ...</td>\n",
       "      <td>[2, 8, 13, 94, 24, 14, 5, 1, 15, 4, 7, 3, 62, ...</td>\n",
       "    </tr>\n",
       "    <tr>\n",
       "      <th>...</th>\n",
       "      <td>...</td>\n",
       "      <td>...</td>\n",
       "      <td>...</td>\n",
       "      <td>...</td>\n",
       "      <td>...</td>\n",
       "      <td>...</td>\n",
       "      <td>...</td>\n",
       "    </tr>\n",
       "    <tr>\n",
       "      <th>6157</th>\n",
       "      <td>11191</td>\n",
       "      <td>Which factors could potentially impact the eff...</td>\n",
       "      <td>[61707]</td>\n",
       "      <td>[Taurocholic acid, protein transport]</td>\n",
       "      <td>[MATCH (x1:Drug {name: \"Taurocholic acid\"})-[r...</td>\n",
       "      <td>[0, 0, 0, 0, 0, 0, 0, 0, 0, 0, 0, 0, 0, 0, 0, ...</td>\n",
       "      <td>[3, 24, 547, 23, 356, 37, 12, 27, 4, 22, 10, 5...</td>\n",
       "    </tr>\n",
       "    <tr>\n",
       "      <th>6158</th>\n",
       "      <td>11196</td>\n",
       "      <td>What are the observed effects or phenotypes as...</td>\n",
       "      <td>[22419, 22488, 22682, 23841, 23846, 24570, 94211]</td>\n",
       "      <td>[congenital short bowel syndrome 1]</td>\n",
       "      <td>[MATCH (x1:Disease {name: \"congenital short bo...</td>\n",
       "      <td>[0, 0, 1, 0, 0, 0, 0, 0, 0, 0, 0, 0, 0, 0, 7, ...</td>\n",
       "      <td>[2, 1, 8, 1, 37, 2, 16, 5, 49, 29, 285, 138, 2...</td>\n",
       "    </tr>\n",
       "    <tr>\n",
       "      <th>6159</th>\n",
       "      <td>11198</td>\n",
       "      <td>Which genes or proteins are present in the nas...</td>\n",
       "      <td>[1147]</td>\n",
       "      <td>[occipital lobe, nasopharynx connective tissue]</td>\n",
       "      <td>[MATCH (x1:Anatomy {name: \"occipital lobe\"})-[...</td>\n",
       "      <td>[0, 0, 1, 0, 0, 1, 0, 0, 0, 0, 0, 0, 0, 0, 0, ...</td>\n",
       "      <td>[3, 11135, 131, 1, 7, 17776, 3605, 10680, 1600...</td>\n",
       "    </tr>\n",
       "    <tr>\n",
       "      <th>6160</th>\n",
       "      <td>11201</td>\n",
       "      <td>Is there an interaction between genes or prote...</td>\n",
       "      <td>[127611, 62903]</td>\n",
       "      <td>[POLB, DNA-(apurinic or apyrimidinic site) end...</td>\n",
       "      <td>[MATCH (x1:GeneOrProtein {name: \"POLB\"})-[r1:P...</td>\n",
       "      <td>[0, 0, 0, 0, 1, 0, 0, 0, 0, 0, 0, 0, 0, 0, 0, ...</td>\n",
       "      <td>[35, 9, 11, 7, 7, 25, 6, 134, 4, 9, 1, 1, 21, ...</td>\n",
       "    </tr>\n",
       "    <tr>\n",
       "      <th>6161</th>\n",
       "      <td>11202</td>\n",
       "      <td>Which pharmacological agents that stimulate os...</td>\n",
       "      <td>[20180]</td>\n",
       "      <td>[atelosteogenesis, fibrochondrogenesis, SMAD b...</td>\n",
       "      <td>[MATCH (x1:Disease {name: \"atelosteogenesis\"})...</td>\n",
       "      <td>[0, 0, 0, 0, 0, 0, 0, 0, 0, 0, 0, 0, 0, 0, 0, ...</td>\n",
       "      <td>[2, 13, 123, 3, 4, 66, 4, 49, 198, 13, 2, 12, ...</td>\n",
       "    </tr>\n",
       "  </tbody>\n",
       "</table>\n",
       "<p>6162 rows × 7 columns</p>\n",
       "</div>"
      ]
     },
     "execution_count": 19,
     "metadata": {},
     "output_type": "execute_result"
    }
   ],
   "execution_count": 19
  },
  {
   "metadata": {
    "ExecuteTime": {
     "end_time": "2025-03-19T16:01:37.735298Z",
     "start_time": "2025-03-19T16:01:37.713639Z"
    }
   },
   "cell_type": "code",
   "source": [
    "def sort_cyphers(data: dict) -> dict:\n",
    "    cyphers, hits, num_results = data['cypher_queries'], data['hits'], data['num_results']\n",
    "    data['cypher_queries'], data['hits'], data['num_results'] = zip(\n",
    "        *sorted(zip(cyphers, hits, num_results), key=lambda x: (-x[1], x[2])))\n",
    "    return data\n",
    "\n",
    "\n",
    "def best_label_is_good(data: dict, lowest_recall=1, lowest_precision=.1) -> bool:\n",
    "    sorted_data = sort_cyphers(data)\n",
    "    precision = sorted_data['hits'][0] / sorted_data['num_results'][0]\n",
    "    recall = sorted_data['hits'][0] / len(sorted_data['answer_ids'])\n",
    "    return recall >= lowest_recall and precision >= lowest_precision"
   ],
   "id": "8630813385909816",
   "outputs": [],
   "execution_count": 15
  },
  {
   "metadata": {
    "ExecuteTime": {
     "end_time": "2025-03-19T16:01:55.076546Z",
     "start_time": "2025-03-19T16:01:54.822742Z"
    }
   },
   "cell_type": "code",
   "source": "qa_with_cypher_queries.filter(lambda x: best_label_is_good(x), num_proc=8)",
   "id": "6f101caba9cc9438",
   "outputs": [
    {
     "data": {
      "text/plain": [
       "Filter (num_proc=8):   0%|          | 0/6162 [00:00<?, ? examples/s]"
      ],
      "application/vnd.jupyter.widget-view+json": {
       "version_major": 2,
       "version_minor": 0,
       "model_id": "e7584ff133904a6f97252646760a9ea5"
      }
     },
     "metadata": {},
     "output_type": "display_data"
    },
    {
     "data": {
      "text/plain": [
       "Dataset({\n",
       "    features: ['id', 'question', 'answer_ids', 'predicted_entities', 'cypher_queries', 'hits', 'num_results'],\n",
       "    num_rows: 2123\n",
       "})"
      ]
     },
     "execution_count": 16,
     "metadata": {},
     "output_type": "execute_result"
    }
   ],
   "execution_count": 16
  },
  {
   "metadata": {
    "ExecuteTime": {
     "end_time": "2025-03-19T16:02:15.900791Z",
     "start_time": "2025-03-19T16:02:15.618871Z"
    }
   },
   "cell_type": "code",
   "source": "(qa_with_cypher_main['train'].rename_column('cyphers', 'cypher_queries').filter(lambda x: best_label_is_good(x), num_proc=8))",
   "id": "c859b7d955d69a05",
   "outputs": [
    {
     "data": {
      "text/plain": [
       "Filter (num_proc=8):   0%|          | 0/6162 [00:00<?, ? examples/s]"
      ],
      "application/vnd.jupyter.widget-view+json": {
       "version_major": 2,
       "version_minor": 0,
       "model_id": "a62dcbaefe064ce6958b260d81b419b6"
      }
     },
     "metadata": {},
     "output_type": "display_data"
    },
    {
     "data": {
      "text/plain": [
       "Dataset({\n",
       "    features: ['id', 'question', 'answer_ids', 'predicted_entities', 'cypher_queries', 'hits', 'num_results'],\n",
       "    num_rows: 3817\n",
       "})"
      ]
     },
     "execution_count": 17,
     "metadata": {},
     "output_type": "execute_result"
    }
   ],
   "execution_count": 17
  },
  {
   "metadata": {
    "ExecuteTime": {
     "end_time": "2025-03-19T16:03:02.958417Z",
     "start_time": "2025-03-19T16:03:02.939237Z"
    }
   },
   "cell_type": "code",
   "source": [
    "\"\"\"\n",
    "2nn gives 2123 valid QAs, ours give 3817. Out of all 6162 train data.\n",
    "\"\"\""
   ],
   "id": "2ce84441d6d575bb",
   "outputs": [
    {
     "data": {
      "text/plain": [
       "'\\n2nn gives 2123 valid QAs, ours give 3817. Out of all 6162 train data.\\n'"
      ]
     },
     "execution_count": 18,
     "metadata": {},
     "output_type": "execute_result"
    }
   ],
   "execution_count": 18
  },
  {
   "metadata": {
    "ExecuteTime": {
     "end_time": "2025-03-19T16:42:57.613717Z",
     "start_time": "2025-03-19T16:42:46.858507Z"
    }
   },
   "cell_type": "code",
   "source": [
    "with GraphDatabase.driver(NEO4J_URI, auth=(NEO4J_USERNAME, NEO4J_PASSWORD)) as driver:\n",
    "    ner = NER(dataset_name=DATASET_NAME, driver=driver)\n",
    "    qa_with_ner_5knn = qa['train'] \\\n",
    "        .map(lambda x: x | {'predicted_entities' : find_knn_nodes(x['id'], driver=driver, k=5)}, num_proc=8)"
   ],
   "id": "1fb2292df2d72ad6",
   "outputs": [
    {
     "data": {
      "text/plain": [
       "Map (num_proc=8):   0%|          | 0/6162 [00:00<?, ? examples/s]"
      ],
      "application/vnd.jupyter.widget-view+json": {
       "version_major": 2,
       "version_minor": 0,
       "model_id": "23194393d1ec47ac884c8fb625c85841"
      }
     },
     "metadata": {},
     "output_type": "display_data"
    },
    {
     "name": "stderr",
     "output_type": "stream",
     "text": [
      "Failed to read from defunct connection IPv4Address(('localhost', 7687)) (ResolvedIPv4Address(('127.0.0.1', 7687)))\n",
      "Failed to read from defunct connection IPv4Address(('localhost', 7687)) (ResolvedIPv4Address(('127.0.0.1', 7687)))\n",
      "Failed to read from defunct connection IPv4Address(('localhost', 7687)) (ResolvedIPv4Address(('127.0.0.1', 7687)))\n",
      "Failed to read from defunct connection IPv4Address(('localhost', 7687)) (ResolvedIPv4Address(('127.0.0.1', 7687)))\n",
      "Failed to read from defunct connection IPv4Address(('localhost', 7687)) (ResolvedIPv4Address(('127.0.0.1', 7687)))\n",
      "Failed to read from defunct connection IPv4Address(('localhost', 7687)) (ResolvedIPv4Address(('127.0.0.1', 7687)))\n",
      "Failed to read from defunct connection IPv4Address(('localhost', 7687)) (ResolvedIPv4Address(('127.0.0.1', 7687)))\n",
      "Failed to read from defunct connection IPv4Address(('localhost', 7687)) (ResolvedIPv4Address(('127.0.0.1', 7687)))\n",
      "Transaction failed and will be retried in 0.8660521795176108s (Failed to read from defunct connection IPv4Address(('localhost', 7687)) (ResolvedIPv4Address(('127.0.0.1', 7687))))\n",
      "Transaction failed and will be retried in 0.9093982858593729s (Failed to read from defunct connection IPv4Address(('localhost', 7687)) (ResolvedIPv4Address(('127.0.0.1', 7687))))\n",
      "Transaction failed and will be retried in 1.0095143648059106s (Failed to read from defunct connection IPv4Address(('localhost', 7687)) (ResolvedIPv4Address(('127.0.0.1', 7687))))\n",
      "Transaction failed and will be retried in 0.9954760400889563s (Failed to read from defunct connection IPv4Address(('localhost', 7687)) (ResolvedIPv4Address(('127.0.0.1', 7687))))\n",
      "Transaction failed and will be retried in 1.0763690112600086s (Failed to read from defunct connection IPv4Address(('localhost', 7687)) (ResolvedIPv4Address(('127.0.0.1', 7687))))\n",
      "Transaction failed and will be retried in 1.012972055284298s (Failed to read from defunct connection IPv4Address(('localhost', 7687)) (ResolvedIPv4Address(('127.0.0.1', 7687))))\n",
      "Transaction failed and will be retried in 0.9229425164141767s (Failed to read from defunct connection IPv4Address(('localhost', 7687)) (ResolvedIPv4Address(('127.0.0.1', 7687))))\n",
      "Transaction failed and will be retried in 0.8273821981526761s (Failed to read from defunct connection IPv4Address(('localhost', 7687)) (ResolvedIPv4Address(('127.0.0.1', 7687))))\n"
     ]
    }
   ],
   "execution_count": 22
  },
  {
   "metadata": {
    "ExecuteTime": {
     "end_time": "2025-03-19T18:31:06.636585Z",
     "start_time": "2025-03-19T16:43:20.432026Z"
    }
   },
   "cell_type": "code",
   "source": [
    "with GraphDatabase.driver(NEO4J_URI, auth=(NEO4J_USERNAME, NEO4J_PASSWORD)) as driver:\n",
    "    path_retriever = PathRetriever(dataset_name=DATASET_NAME)\n",
    "\n",
    "    qa_with_cypher_queries_5knn = qa_with_ner_5knn \\\n",
    "        .map(lambda x: x | path_retriever.retrieve_paths(driver=driver, src_names=x['predicted_entities'], tgt_ids=x['answer_ids']), num_proc=8)"
   ],
   "id": "d44bc620ad16ce6e",
   "outputs": [
    {
     "data": {
      "text/plain": [
       "Map (num_proc=8):   0%|          | 0/6162 [00:00<?, ? examples/s]"
      ],
      "application/vnd.jupyter.widget-view+json": {
       "version_major": 2,
       "version_minor": 0,
       "model_id": "52c599e646114d7287dd6fcf7806527a"
      }
     },
     "metadata": {},
     "output_type": "display_data"
    }
   ],
   "execution_count": 23
  },
  {
   "metadata": {
    "ExecuteTime": {
     "end_time": "2025-03-19T20:56:24.877826Z",
     "start_time": "2025-03-19T20:56:24.512093Z"
    }
   },
   "cell_type": "code",
   "source": "qa_with_cypher_queries_5knn.filter(lambda x: best_label_is_good(x), num_proc=8)",
   "id": "7fbb0742930999a4",
   "outputs": [
    {
     "data": {
      "text/plain": [
       "Filter (num_proc=8):   0%|          | 0/6162 [00:00<?, ? examples/s]"
      ],
      "application/vnd.jupyter.widget-view+json": {
       "version_major": 2,
       "version_minor": 0,
       "model_id": "0243b4cd6b024c69b11fcf13edf9a430"
      }
     },
     "metadata": {},
     "output_type": "display_data"
    },
    {
     "data": {
      "text/plain": [
       "Dataset({\n",
       "    features: ['id', 'question', 'answer_ids', 'predicted_entities', 'cypher_queries', 'hits', 'num_results'],\n",
       "    num_rows: 3072\n",
       "})"
      ]
     },
     "execution_count": 24,
     "metadata": {},
     "output_type": "execute_result"
    }
   ],
   "execution_count": 24
  },
  {
   "metadata": {},
   "cell_type": "code",
   "outputs": [],
   "execution_count": null,
   "source": [
    "\"\"\"\n",
    "2knn gives 2123 valid QAs, ours give 3817. Out of all 6162 train data.\n",
    "5knn gives 3072 valid QAs.\n",
    "\"\"\""
   ],
   "id": "7fe60a4674723236"
  },
  {
   "metadata": {
    "ExecuteTime": {
     "end_time": "2025-03-20T10:33:24.637137Z",
     "start_time": "2025-03-20T10:33:24.557511Z"
    }
   },
   "cell_type": "code",
   "source": "qa_with_cypher_queries_5knn.save_to_disk('prime-data/qa_with_cyphers_5nn/')",
   "id": "b33c71a4a86d534f",
   "outputs": [
    {
     "data": {
      "text/plain": [
       "Saving the dataset (0/1 shards):   0%|          | 0/6162 [00:00<?, ? examples/s]"
      ],
      "application/vnd.jupyter.widget-view+json": {
       "version_major": 2,
       "version_minor": 0,
       "model_id": "ae469cc63a044c458111a9fa9e92fb96"
      }
     },
     "metadata": {},
     "output_type": "display_data"
    }
   ],
   "execution_count": 25
  },
  {
   "metadata": {},
   "cell_type": "code",
   "outputs": [],
   "execution_count": null,
   "source": "\n",
   "id": "fc8642623db6f37f"
  }
 ],
 "metadata": {
  "kernelspec": {
   "display_name": "Python 3",
   "language": "python",
   "name": "python3"
  },
  "language_info": {
   "codemirror_mode": {
    "name": "ipython",
    "version": 2
   },
   "file_extension": ".py",
   "mimetype": "text/x-python",
   "name": "python",
   "nbconvert_exporter": "python",
   "pygments_lexer": "ipython2",
   "version": "2.7.6"
  }
 },
 "nbformat": 4,
 "nbformat_minor": 5
}
