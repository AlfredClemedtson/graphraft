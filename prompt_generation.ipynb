{
 "cells": [
  {
   "metadata": {
    "ExecuteTime": {
     "end_time": "2025-03-14T10:22:29.578524Z",
     "start_time": "2025-03-14T10:22:28.337093Z"
    }
   },
   "cell_type": "code",
   "source": [
    "from datasets import load_from_disk\n",
    "import torch\n",
    "from retriever import Retriever\n",
    "\n",
    "from neo4j import GraphDatabase\n",
    "from dotenv import load_dotenv\n",
    "import os\n",
    "load_dotenv('db.env', override=True)\n",
    "NEO4J_URI = os.getenv('NEO4J_URI')\n",
    "NEO4J_USERNAME = os.getenv('NEO4J_USERNAME')\n",
    "NEO4J_PASSWORD = os.getenv('NEO4J_PASSWORD')\n",
    "NEO4J_URI"
   ],
   "id": "121d6a64e873b866",
   "outputs": [
    {
     "data": {
      "text/plain": [
       "'bolt://localhost:7687'"
      ]
     },
     "execution_count": 1,
     "metadata": {},
     "output_type": "execute_result"
    }
   ],
   "execution_count": 1
  },
  {
   "metadata": {
    "ExecuteTime": {
     "end_time": "2025-03-14T10:22:29.640095Z",
     "start_time": "2025-03-14T10:22:29.638558Z"
    }
   },
   "cell_type": "code",
   "source": [
    "#DATASET_NAME = 'prime'\n",
    "DATASET_NAME = 'mag'"
   ],
   "id": "d059b80113fe8a16",
   "outputs": [],
   "execution_count": 2
  },
  {
   "metadata": {
    "ExecuteTime": {
     "end_time": "2025-03-14T10:22:30.969654Z",
     "start_time": "2025-03-14T10:22:30.965950Z"
    }
   },
   "cell_type": "code",
   "source": [
    "COUNT_TOKENS = False\n",
    "MAX_NODES = 20\n",
    "MAX_TOKENS = ...\n",
    "EF = 10_000\n",
    "CYPHER_RATE = 1\n",
    "\n",
    "match DATASET_NAME:\n",
    "    case 'prime':\n",
    "        node_properties = ['name', 'description']\n",
    "        sorting_index = 'nameEmbedding' #Is actually the abstract embedding for papers\n",
    "        vector_index = 'textEmbedding'\n",
    "    case 'mag':\n",
    "        node_properties = ['name','abstract']\n",
    "        sorting_index = 'nameEmbedding' #Is actually the abstract embedding for papers\n",
    "        vector_index = 'abstractEmbedding'\n",
    "    case _:\n",
    "        raise Exception('Unrecognized dataset name')\n",
    "\n",
    "\n",
    "retriever = Retriever(node_properties=node_properties, sorting_index=sorting_index, vector_index=vector_index,\n",
    "                      pattern_rate=CYPHER_RATE, ef=EF,\n",
    "                      count_tokens=COUNT_TOKENS, max_nodes=MAX_NODES, max_tokens=MAX_TOKENS, formatter=None,\n",
    "                      tokenizer=None)"
   ],
   "id": "d8e69647eb0b7f61",
   "outputs": [],
   "execution_count": 3
  },
  {
   "metadata": {
    "ExecuteTime": {
     "end_time": "2025-03-14T10:22:32.343030Z",
     "start_time": "2025-03-14T10:22:32.122082Z"
    }
   },
   "cell_type": "code",
   "source": [
    "qa_with_queries = load_from_disk(f\"{DATASET_NAME}-data/qa_with_generated_cypher_queries\")\n",
    "q_embs = torch.load(f\"{DATASET_NAME}-data/text-embeddings-ada-002/query/query_emb_dict.pt\", weights_only=False)"
   ],
   "id": "10d14e66e201a118",
   "outputs": [],
   "execution_count": 4
  },
  {
   "metadata": {},
   "cell_type": "code",
   "outputs": [],
   "execution_count": null,
   "source": "#dbms.setConfigValue('db.transaction.timeout','10s')",
   "id": "7d7106b81c660363"
  },
  {
   "metadata": {
    "ExecuteTime": {
     "end_time": "2025-03-14T10:07:11.092537Z",
     "start_time": "2025-03-14T09:37:00.195237Z"
    }
   },
   "cell_type": "code",
   "source": [
    "# def sort_queries(data: dict) -> dict:\n",
    "#     cyphers, hits, num_results = data['cyphers'], data['hits'], data['num_results']\n",
    "#     ordered_cypher_queries, _, _ = zip(*sorted(zip(cyphers, hits, num_results), key=lambda x: (-x[1],x[2])))\n",
    "#     return ordered_cypher_queries\n",
    "\n",
    "#.map(lambda x: x | {'top_cypher_queries' : sort_queries(x)}) \\\n",
    "\n",
    "with GraphDatabase.driver(NEO4J_URI, auth=(NEO4J_USERNAME, NEO4J_PASSWORD)) as driver:\n",
    "    qa_with_retrieved_data = qa_with_queries \\\n",
    "        .map(lambda x: x | {'q_emb' : q_embs[x['id']].tolist()[0]}) \\\n",
    "        .map(lambda x: x | {'data':retriever.retrieve_data(driver=driver, cypher_queries=x['top_cypher_queries'], q_emb=x['q_emb'])}, num_proc=8)\n",
    "    \n",
    "qa_with_retrieved_data.save_to_disk(f\"{DATASET_NAME}-data/qa_with_retrieved_data\")"
   ],
   "id": "25e4d650bb4e1a4d",
   "outputs": [
    {
     "data": {
      "text/plain": [
       "Map:   0%|          | 0/2665 [00:00<?, ? examples/s]"
      ],
      "application/vnd.jupyter.widget-view+json": {
       "version_major": 2,
       "version_minor": 0,
       "model_id": "d42eed679e824b078e94f0afae9b058a"
      }
     },
     "metadata": {},
     "output_type": "display_data"
    },
    {
     "data": {
      "text/plain": [
       "Map (num_proc=8):   0%|          | 0/2665 [00:00<?, ? examples/s]"
      ],
      "application/vnd.jupyter.widget-view+json": {
       "version_major": 2,
       "version_minor": 0,
       "model_id": "c5b9b2314c45489fa4e8723cf4b7f496"
      }
     },
     "metadata": {},
     "output_type": "display_data"
    },
    {
     "name": "stdout",
     "output_type": "stream",
     "text": [
      "{code: Neo.ClientError.Statement.SyntaxError} {message: Invalid input 'anchen': expected an expression, ',' or '}' (line 1, column 51 (offset: 50))\n",
      "\"MATCH (x1:Paper {name: \"Observation of the Goos-H\"anchen shift in graphene via weak measurements\"})-[r1:CITES]-(x2:Paper)  RETURN x2.nodeId as nodeId, x2.name AS name, x2.abstract AS abstract, vector.similarity.cosine(x2.nameEmbedding, $questionEmbedding) AS similarity ORDER BY similarity DESC\"\n",
      "                                                   ^}\n",
      "{code: Neo.ClientError.Statement.SyntaxError} {message: Invalid input 'anchen': expected an expression, ',' or '}' (line 1, column 51 (offset: 50))\n",
      "\"MATCH (x1:Paper {name: \"Observation of the Goos-H\"anchen shift in graphene via weak measurements\"})-[r1:CITES]-(x2:Paper)-[r2:CITES]-(x3:Paper)  RETURN x3.nodeId as nodeId, x3.name AS name, x3.abstract AS abstract, vector.similarity.cosine(x3.nameEmbedding, $questionEmbedding) AS similarity ORDER BY similarity DESC\"\n",
      "                                                   ^}\n",
      "{code: Neo.ClientError.Statement.SyntaxError} {message: Invalid input 'Hydration': expected an expression, ',' or '}' (line 1, column 79 (offset: 78))\n",
      "\"MATCH (x1:Paper {name: \"Water activity in lamellar stacks of lipid bilayers: \"Hydration forces\" revisited.\"})-[r1:WRITES]-(x2:Author)-[r2:WRITES]-(x3:Paper)  RETURN x3.nodeId as nodeId, x3.name AS name, x3.abstract AS abstract, vector.similarity.cosine(x3.nameEmbedding, $questionEmbedding) AS similarity ORDER BY similarity DESC\"\n",
      "                                                                               ^}\n",
      "{code: Neo.ClientError.Statement.SyntaxError} {message: Invalid input 'Hydration': expected an expression, ',' or '}' (line 1, column 79 (offset: 78))\n",
      "\"MATCH (x1:Paper {name: \"Water activity in lamellar stacks of lipid bilayers: \"Hydration forces\" revisited.\"})-[r1:CITES]-(x2:Paper)  RETURN x2.nodeId as nodeId, x2.name AS name, x2.abstract AS abstract, vector.similarity.cosine(x2.nameEmbedding, $questionEmbedding) AS similarity ORDER BY similarity DESC\"\n",
      "                                                                               ^}\n",
      "{code: Neo.ClientError.Statement.SyntaxError} {message: Invalid input '{': expected an expression, ',' or '}' (line 1, column 41 (offset: 40))\n",
      "\"MATCH (x1:Paper {name: \"Fractional Schr\"{o}dinger equation in optics\"})-[r1:CITES]-(x2:Paper)-[r2:CITES]-(x3:Paper)  RETURN x3.nodeId as nodeId, x3.name AS name, x3.abstract AS abstract, vector.similarity.cosine(x3.nameEmbedding, $questionEmbedding) AS similarity ORDER BY similarity DESC\"\n",
      "                                         ^}\n",
      "{code: Neo.ClientError.Statement.SyntaxError} {message: Invalid input '{': expected an expression, ',' or '}' (line 1, column 41 (offset: 40))\n",
      "\"MATCH (x1:Paper {name: \"Fractional Schr\"{o}dinger equation in optics\"})-[r1:CITES]-(x2:Paper)  RETURN x2.nodeId as nodeId, x2.name AS name, x2.abstract AS abstract, vector.similarity.cosine(x2.nameEmbedding, $questionEmbedding) AS similarity ORDER BY similarity DESC\"\n",
      "                                         ^}\n"
     ]
    }
   ],
   "execution_count": 6
  },
  {
   "metadata": {
    "ExecuteTime": {
     "end_time": "2025-03-14T10:22:42.024413Z",
     "start_time": "2025-03-14T10:22:42.012816Z"
    }
   },
   "cell_type": "code",
   "source": "qa_with_retrieved_data = load_from_disk(f\"{DATASET_NAME}-data/qa_with_retrieved_data_valid\")",
   "id": "c7896c8222f36569",
   "outputs": [],
   "execution_count": 6
  },
  {
   "metadata": {
    "ExecuteTime": {
     "end_time": "2025-03-14T10:22:44.609109Z",
     "start_time": "2025-03-14T10:22:44.382624Z"
    }
   },
   "cell_type": "code",
   "source": [
    "from compute_metrics import compute_metrics\n",
    "\n",
    "predss = [[data['nodeId'] for data in datas] for datas in qa_with_retrieved_data['data']]\n",
    "labelss = [x for x in qa_with_retrieved_data['answer_ids']] #eval not needed (soon)\n",
    "\n",
    "_ = compute_metrics(predss=predss, labelss=labelss, metrics=['precision', 'recall', 'f1', 'hit@1', 'hit@5', 'recall@20', 'mrr', 'num_nodes'])"
   ],
   "id": "367973030dddf521",
   "outputs": [
    {
     "name": "stdout",
     "output_type": "stream",
     "text": [
      "precision: 0.085\n",
      "recall   : 0.734\n",
      "f1       : 0.141\n",
      "hit@1    : 0.617\n",
      "hit@5    : 0.724\n",
      "recall@20: 0.734\n",
      "mrr      : 0.656\n",
      "num_nodes: 19.770\n"
     ]
    }
   ],
   "execution_count": 7
  },
  {
   "metadata": {},
   "cell_type": "code",
   "outputs": [],
   "execution_count": null,
   "source": "",
   "id": "f81ef98afee653cc"
  }
 ],
 "metadata": {
  "kernelspec": {
   "display_name": "Python 3",
   "language": "python",
   "name": "python3"
  },
  "language_info": {
   "codemirror_mode": {
    "name": "ipython",
    "version": 2
   },
   "file_extension": ".py",
   "mimetype": "text/x-python",
   "name": "python",
   "nbconvert_exporter": "python",
   "pygments_lexer": "ipython2",
   "version": "2.7.6"
  }
 },
 "nbformat": 4,
 "nbformat_minor": 5
}
