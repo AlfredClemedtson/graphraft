{
 "cells": [
  {
   "cell_type": "code",
   "id": "initial_id",
   "metadata": {
    "collapsed": true,
    "ExecuteTime": {
     "end_time": "2025-02-11T13:08:05.792931Z",
     "start_time": "2025-02-11T13:08:05.791066Z"
    }
   },
   "source": [
    "import torch\n",
    "from torch.nn.functional import softmax\n",
    "from transformers import AutoTokenizer, LogitsProcessor, LlamaForCausalLM, GenerationConfig"
   ],
   "outputs": [],
   "execution_count": 51
  },
  {
   "metadata": {
    "ExecuteTime": {
     "end_time": "2025-02-11T13:08:08.008926Z",
     "start_time": "2025-02-11T13:08:06.663329Z"
    }
   },
   "cell_type": "code",
   "source": [
    "model_name = 'meta-llama/Llama-3.2-1B-Instruct'\n",
    "tokenizer = AutoTokenizer.from_pretrained(model_name)\n",
    "model: LlamaForCausalLM = LlamaForCausalLM.from_pretrained(model_name)"
   ],
   "id": "87497e0b27a55329",
   "outputs": [],
   "execution_count": 52
  },
  {
   "metadata": {
    "ExecuteTime": {
     "end_time": "2025-02-11T14:58:03.426325Z",
     "start_time": "2025-02-11T14:58:03.422842Z"
    }
   },
   "cell_type": "code",
   "source": [
    "class MyLogitsProcessor(LogitsProcessor):\n",
    "    def __init__(self):\n",
    "        self.allowed_queries = [\"\"\"MATCH (x1:Disease {name: \"cold\"})-[r1:PARENT_CHILD]-(x2:Disease) RETURN\"\"\",\n",
    "                                \"\"\"MATCH (x1:Drug {name: \"Ozempic\"})-[r1:ENZYME]-(x2:PathOrEnzyme) RETURN\"\"\"]\n",
    "        self.allowed_queries_ids = [tokenizer(query, add_special_tokens=False) for query in self.allowed_queries]\n",
    "        self.starting_ids = [tokenizer(\"MATCH\") ]\n",
    "    \n",
    "    def __call__(self, input_ids, scores):\n",
    "        texts = tokenizer.batch_decode(input_ids)\n",
    "        token_probs = torch.zeros_like(scores)\n",
    "        for i, text in enumerate(texts):\n",
    "            gen_text = \"MATCH\" + text.split(\"MATCH\")[-1]\n",
    "            allowed_ids = self.allowed_next_ids(gen_text)\n",
    "            if len(allowed_ids) == 0:\n",
    "                allowed_ids = [tokenizer.eos_token_id]\n",
    "            token_probs[i, allowed_ids] = softmax(scores[i, allowed_ids], dim=-1)\n",
    "        return token_probs\n",
    "    \n",
    "    def allowed_next_ids(self, gen_text):\n",
    "            token_ids = set()\n",
    "            for query in self.allowed_queries:\n",
    "                if query.startswith(gen_text):\n",
    "                    allowed_continuation = query[len(gen_text):]\n",
    "                    if allowed_continuation == \"\":\n",
    "                        continue\n",
    "                    token_ids.add(tokenizer(allowed_continuation, add_special_tokens=False).input_ids[0])\n",
    "            token_ids = list(token_ids)\n",
    "            return token_ids\n",
    "\n",
    "class MyLogitsProcessorList(list):\n",
    "    def __iter__(self):\n",
    "        for _ in range(1):\n",
    "            yield MyLogitsProcessor()#self.logits_processor\n",
    "    \n",
    "    def __len__(self):\n",
    "        return 1"
   ],
   "id": "41d33e42e0b7138e",
   "outputs": [],
   "execution_count": 97
  },
  {
   "metadata": {
    "ExecuteTime": {
     "end_time": "2025-02-11T14:58:07.996465Z",
     "start_time": "2025-02-11T14:58:03.737804Z"
    }
   },
   "cell_type": "code",
   "source": [
    "generation_config = GenerationConfig(do_sample=False, num_beams=5, max_length=100, early_stopping=True, num_return_sequences=2)\n",
    "logits_processor_list = MyLogitsProcessorList()\n",
    "\n",
    "\n",
    "input_ids = tokenizer(\"MATCH\", return_tensors=\"pt\")\n",
    "output_ids = model.generate(**input_ids, generation_config=generation_config, logits_processor=logits_processor_list)\n",
    "output_texts = tokenizer.batch_decode(output_ids, skip_special_tokens=True)\n",
    "print(output_texts)"
   ],
   "id": "127a81047e2be6e4",
   "outputs": [
    {
     "name": "stderr",
     "output_type": "stream",
     "text": [
      "Setting `pad_token_id` to `eos_token_id`:128001 for open-end generation.\n"
     ]
    },
    {
     "name": "stdout",
     "output_type": "stream",
     "text": [
      "['MATCH (x1:Disease {name: \"cold\"})-[r1:PARENT_CHILD]-(x2:Disease) RETURN', 'MATCH (x1:.']\n"
     ]
    }
   ],
   "execution_count": 98
  },
  {
   "metadata": {
    "ExecuteTime": {
     "end_time": "2025-02-11T13:45:14.663262Z",
     "start_time": "2025-02-11T13:45:14.659610Z"
    }
   },
   "cell_type": "code",
   "source": "tokenizer(','), tokenizer('&'), tokenizer('.'), tokenizer('4')",
   "id": "43c8f0dc54490199",
   "outputs": [
    {
     "data": {
      "text/plain": [
       "({'input_ids': [128000, 11], 'attention_mask': [1, 1]},\n",
       " {'input_ids': [128000, 5], 'attention_mask': [1, 1]},\n",
       " {'input_ids': [128000, 13], 'attention_mask': [1, 1]},\n",
       " {'input_ids': [128000, 19], 'attention_mask': [1, 1]})"
      ]
     },
     "execution_count": 82,
     "metadata": {},
     "output_type": "execute_result"
    }
   ],
   "execution_count": 82
  },
  {
   "metadata": {},
   "cell_type": "code",
   "outputs": [],
   "execution_count": null,
   "source": "",
   "id": "2ba41e3f94b2477a"
  }
 ],
 "metadata": {
  "kernelspec": {
   "display_name": "Python 3",
   "language": "python",
   "name": "python3"
  },
  "language_info": {
   "codemirror_mode": {
    "name": "ipython",
    "version": 2
   },
   "file_extension": ".py",
   "mimetype": "text/x-python",
   "name": "python",
   "nbconvert_exporter": "python",
   "pygments_lexer": "ipython2",
   "version": "2.7.6"
  }
 },
 "nbformat": 4,
 "nbformat_minor": 5
}
